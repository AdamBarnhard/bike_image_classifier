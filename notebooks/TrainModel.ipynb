{
 "cells": [
  {
   "cell_type": "code",
   "execution_count": 1,
   "metadata": {
    "collapsed": true
   },
   "outputs": [],
   "source": [
    "# Load the \"autoreload\" extension. Prior to executing code, modules are reloaded. \n",
    "# There's no need to restart jupyter notebook if you modify code in the `src` directory.\n",
    "# https://ipython.org/ipython-doc/3/config/extensions/autoreload.html\n",
    "%load_ext autoreload\n",
    "\n",
    "# OPTIONAL: always reload modules so that as you change code in src, it gets loaded\n",
    "%autoreload 2\n",
    "\n",
    "from src.data import make_dataset\n"
   ]
  },
  {
   "cell_type": "code",
   "execution_count": 65,
   "metadata": {
    "collapsed": true
   },
   "outputs": [],
   "source": [
    "# import the necessary packages\n",
    "from tensorflow.keras.preprocessing.image import ImageDataGenerator\n",
    "from tensorflow.keras.applications import MobileNetV2\n",
    "from tensorflow.keras.layers import AveragePooling2D\n",
    "from tensorflow.keras.layers import Dropout\n",
    "from tensorflow.keras.layers import Flatten\n",
    "from tensorflow.keras.layers import Dense\n",
    "from tensorflow.keras.layers import Input\n",
    "from tensorflow.keras.models import Model\n",
    "from tensorflow.keras.optimizers import Adam\n",
    "from tensorflow.keras.applications.mobilenet_v2 import preprocess_input\n",
    "from tensorflow.keras.preprocessing.image import img_to_array\n",
    "from tensorflow.keras.preprocessing.image import load_img\n",
    "from tensorflow.keras.models import load_model\n",
    "from tensorflow.keras.utils import to_categorical\n",
    "from sklearn.preprocessing import LabelBinarizer\n",
    "from sklearn.model_selection import train_test_split\n",
    "from sklearn.metrics import classification_report\n",
    "from imutils import paths\n",
    "import matplotlib.pyplot as plt\n",
    "import numpy as np\n",
    "import argparse\n",
    "import os"
   ]
  },
  {
   "cell_type": "code",
   "execution_count": 85,
   "metadata": {},
   "outputs": [
    {
     "name": "stdout",
     "output_type": "stream",
     "text": [
      "[INFO] loading images...\n"
     ]
    }
   ],
   "source": [
    "# grab the list of images in our dataset directory, then initialize\n",
    "# the list of data (i.e., images) and class images\n",
    "print(\"[INFO] loading images...\")\n",
    "#imagePaths = list(paths.list_images(args[\"dataset\"]))\n",
    "imagePaths = list(paths.list_images('../data/raw/Road')) + \\\n",
    "             list(paths.list_images('../data/raw/Mountain'))\n",
    "data = []\n",
    "labels = []"
   ]
  },
  {
   "cell_type": "code",
   "execution_count": 86,
   "metadata": {},
   "outputs": [
    {
     "data": {
      "text/plain": [
       "['../data/raw/Road/3072474.png',\n",
       " '../data/raw/Road/3072460.png',\n",
       " '../data/raw/Road/3075535.png',\n",
       " '../data/raw/Road/3072931.png',\n",
       " '../data/raw/Road/3072930.png',\n",
       " '../data/raw/Road/3077337.png',\n",
       " '../data/raw/Road/3075326.png',\n",
       " '../data/raw/Road/3072461.png',\n",
       " '../data/raw/Road/3072852.png',\n",
       " '../data/raw/Road/3072463.png',\n",
       " '../data/raw/Road/3075318.png',\n",
       " '../data/raw/Road/3077269.png',\n",
       " '../data/raw/Road/3077255.png',\n",
       " '../data/raw/Road/3077309.png',\n",
       " '../data/raw/Road/3075536.png',\n",
       " '../data/raw/Road/3072932.png',\n",
       " '../data/raw/Road/3072933.png',\n",
       " '../data/raw/Road/3074826.png',\n",
       " '../data/raw/Road/3075537.png',\n",
       " '../data/raw/Road/3077308.png',\n",
       " '../data/raw/Road/3077254.png',\n",
       " '../data/raw/Road/3077268.png',\n",
       " '../data/raw/Road/3072462.png',\n",
       " '../data/raw/Road/3072853.png',\n",
       " '../data/raw/Road/3075335.png',\n",
       " '../data/raw/Road/3075321.png',\n",
       " '../data/raw/Road/3072466.png',\n",
       " '../data/raw/Road/3075309.png',\n",
       " '../data/raw/Road/3072472.png',\n",
       " '../data/raw/Road/3077442.png',\n",
       " '../data/raw/Road/3072473.png',\n",
       " '../data/raw/Road/3075308.png',\n",
       " '../data/raw/Road/3072467.png',\n",
       " '../data/raw/Road/3075334.png',\n",
       " '../data/raw/Road/3072854.png',\n",
       " '../data/raw/Road/3077253.png',\n",
       " '../data/raw/Road/3072459.png',\n",
       " '../data/raw/Road/3072471.png',\n",
       " '../data/raw/Road/3072465.png',\n",
       " '../data/raw/Road/3077441.png',\n",
       " '../data/raw/Road/3072712.png',\n",
       " '../data/raw/Road/3077440.png',\n",
       " '../data/raw/Road/3072464.png',\n",
       " '../data/raw/Road/3072470.png',\n",
       " '../data/raw/Road/3075337.png',\n",
       " '../data/raw/Road/3072458.png',\n",
       " '../data/raw/Road/3075344.png',\n",
       " '../data/raw/Road/3077235.png',\n",
       " '../data/raw/Road/3075350.png',\n",
       " '../data/raw/Road/3073669.png',\n",
       " '../data/raw/Road/3077341.png',\n",
       " '../data/raw/Road/3077355.png',\n",
       " '../data/raw/Road/3074884.png',\n",
       " '../data/raw/Road/3077433.png',\n",
       " '../data/raw/Road/3077181.png',\n",
       " '../data/raw/Road/3077354.png',\n",
       " '../data/raw/Road/3073668.png',\n",
       " '../data/raw/Road/3077220.png',\n",
       " '../data/raw/Road/3075351.png',\n",
       " '../data/raw/Road/3077234.png',\n",
       " '../data/raw/Road/3073708.png',\n",
       " '../data/raw/Road/3072827.png',\n",
       " '../data/raw/Road/3072616.png',\n",
       " '../data/raw/Road/3072819.png',\n",
       " '../data/raw/Road/3072825.png',\n",
       " '../data/raw/Road/3077236.png',\n",
       " '../data/raw/Road/3075347.png',\n",
       " '../data/raw/Road/3077342.png',\n",
       " '../data/raw/Road/3077197.png',\n",
       " '../data/raw/Road/3077183.png',\n",
       " '../data/raw/Road/3077196.png',\n",
       " '../data/raw/Road/3077169.png',\n",
       " '../data/raw/Road/3077394.png',\n",
       " '../data/raw/Road/3074879.png',\n",
       " '../data/raw/Road/3077343.png',\n",
       " '../data/raw/Road/3077223.png',\n",
       " '../data/raw/Road/3072830.png',\n",
       " '../data/raw/Road/3072824.png',\n",
       " '../data/raw/Road/3072617.png',\n",
       " '../data/raw/Road/3072820.png',\n",
       " '../data/raw/Road/3077227.png',\n",
       " '../data/raw/Road/3077233.png',\n",
       " '../data/raw/Road/3077353.png',\n",
       " '../data/raw/Road/3074882.png',\n",
       " '../data/raw/Road/3077435.png',\n",
       " '../data/raw/Road/3074896.png',\n",
       " '../data/raw/Road/3077347.png',\n",
       " '../data/raw/Road/3077346.png',\n",
       " '../data/raw/Road/3077352.png',\n",
       " '../data/raw/Road/3077434.png',\n",
       " '../data/raw/Road/3075343.png',\n",
       " '../data/raw/Road/3077232.png',\n",
       " '../data/raw/Road/3072821.png',\n",
       " '../data/raw/Road/3072638.png',\n",
       " '../data/raw/Road/3077230.png',\n",
       " '../data/raw/Road/3077224.png',\n",
       " '../data/raw/Road/3077218.png',\n",
       " '../data/raw/Road/3074895.png',\n",
       " '../data/raw/Road/3077436.png',\n",
       " '../data/raw/Road/3077350.png',\n",
       " '../data/raw/Road/3073678.png',\n",
       " '../data/raw/Road/3073693.png',\n",
       " '../data/raw/Road/3077393.png',\n",
       " '../data/raw/Road/3077437.png',\n",
       " '../data/raw/Road/3074880.png',\n",
       " '../data/raw/Road/3077351.png',\n",
       " '../data/raw/Road/3077219.png',\n",
       " '../data/raw/Road/3077231.png',\n",
       " '../data/raw/Road/3072822.png',\n",
       " '../data/raw/Road/3072836.png',\n",
       " '../data/raw/Road/3072634.png',\n",
       " '../data/raw/Road/3077228.png',\n",
       " '../data/raw/Road/3077214.png',\n",
       " '../data/raw/Road/3077348.png',\n",
       " '../data/raw/Road/3077360.png',\n",
       " '../data/raw/Road/3073674.png',\n",
       " '../data/raw/Road/3076526.png',\n",
       " '../data/raw/Road/3073675.png',\n",
       " '../data/raw/Road/3077349.png',\n",
       " '../data/raw/Road/3073701.png',\n",
       " '../data/raw/Road/3077215.png',\n",
       " '../data/raw/Road/3072423.png',\n",
       " '../data/raw/Road/3077229.png',\n",
       " '../data/raw/Road/3072635.png',\n",
       " '../data/raw/Road/3072637.png',\n",
       " '../data/raw/Road/3073703.png',\n",
       " '../data/raw/Road/3077217.png',\n",
       " '../data/raw/Road/3077439.png',\n",
       " '../data/raw/Road/3073677.png',\n",
       " '../data/raw/Road/3077363.png',\n",
       " '../data/raw/Road/3077362.png',\n",
       " '../data/raw/Road/3073676.png',\n",
       " '../data/raw/Road/3077438.png',\n",
       " '../data/raw/Road/3077216.png',\n",
       " '../data/raw/Road/3073702.png',\n",
       " '../data/raw/Road/3076444.png',\n",
       " '../data/raw/Road/3072632.png',\n",
       " '../data/raw/Road/3073706.png',\n",
       " '../data/raw/Road/3073672.png',\n",
       " '../data/raw/Road/3072747.png',\n",
       " '../data/raw/Road/3072586.png',\n",
       " '../data/raw/Road/3074875.png',\n",
       " '../data/raw/Road/3073673.png',\n",
       " '../data/raw/Road/3073707.png',\n",
       " '../data/raw/Road/3072633.png',\n",
       " '../data/raw/Road/3072619.png',\n",
       " '../data/raw/Road/3072631.png',\n",
       " '../data/raw/Road/3072816.png',\n",
       " '../data/raw/Road/3077211.png',\n",
       " '../data/raw/Road/3073705.png',\n",
       " '../data/raw/Road/3075348.png',\n",
       " '../data/raw/Road/3073671.png',\n",
       " '../data/raw/Road/3077359.png',\n",
       " '../data/raw/Road/3074877.png',\n",
       " '../data/raw/Road/3077198.png',\n",
       " '../data/raw/Road/3072585.png',\n",
       " '../data/raw/Road/3074876.png',\n",
       " '../data/raw/Road/3077358.png',\n",
       " '../data/raw/Road/3073670.png',\n",
       " '../data/raw/Road/3077364.png',\n",
       " '../data/raw/Road/3075349.png',\n",
       " '../data/raw/Road/3073704.png',\n",
       " '../data/raw/Road/3072817.png',\n",
       " '../data/raw/Road/3072618.png',\n",
       " '../data/raw/Road/3072455.png',\n",
       " '../data/raw/Road/3075306.png',\n",
       " '../data/raw/Road/3072469.png',\n",
       " '../data/raw/Road/3075312.png',\n",
       " '../data/raw/Road/3075299.png',\n",
       " '../data/raw/Road/3075703.png',\n",
       " '../data/raw/Road/3077302.png',\n",
       " '../data/raw/Road/3075313.png',\n",
       " '../data/raw/Road/3072468.png',\n",
       " '../data/raw/Road/3075307.png',\n",
       " '../data/raw/Road/3072454.png',\n",
       " '../data/raw/Road/3075339.png',\n",
       " '../data/raw/Road/3072456.png',\n",
       " '../data/raw/Road/3074769.png',\n",
       " '../data/raw/Road/3075311.png',\n",
       " '../data/raw/Road/3075305.png',\n",
       " '../data/raw/Road/3077300.png',\n",
       " '../data/raw/Road/3075304.png',\n",
       " '../data/raw/Road/3075310.png',\n",
       " '../data/raw/Road/3072457.png',\n",
       " '../data/raw/Road/3075338.png',\n",
       " '../data/raw/Road/3075314.png',\n",
       " '../data/raw/Road/3075300.png',\n",
       " '../data/raw/Road/3072453.png',\n",
       " '../data/raw/Road/3077311.png',\n",
       " '../data/raw/Road/3077305.png',\n",
       " '../data/raw/Road/3077339.png',\n",
       " '../data/raw/Road/3077338.png',\n",
       " '../data/raw/Road/3077304.png',\n",
       " '../data/raw/Road/3077310.png',\n",
       " '../data/raw/Road/3072452.png',\n",
       " '../data/raw/Road/3075329.png',\n",
       " '../data/raw/Road/3077270.png',\n",
       " '../data/raw/Road/3075301.png',\n",
       " '../data/raw/Road/3075303.png',\n",
       " '../data/raw/Road/3075317.png',\n",
       " '../data/raw/Road/3077306.png',\n",
       " '../data/raw/Road/3077312.png',\n",
       " '../data/raw/Road/3076964.png',\n",
       " '../data/raw/Road/3077313.png',\n",
       " '../data/raw/Road/3077307.png',\n",
       " '../data/raw/Road/3075316.png',\n",
       " '../data/raw/Road/3075302.png',\n",
       " '../data/raw/Mountain/3072851.png',\n",
       " '../data/raw/Mountain/3074005.png',\n",
       " '../data/raw/Mountain/3077518.png',\n",
       " '../data/raw/Mountain/3073030.png',\n",
       " '../data/raw/Mountain/3077478.png',\n",
       " '../data/raw/Mountain/3077336.png',\n",
       " '../data/raw/Mountain/3074824.png',\n",
       " '../data/raw/Mountain/3074401.png',\n",
       " '../data/raw/Mountain/3074398.png',\n",
       " '../data/raw/Mountain/3074399.png',\n",
       " '../data/raw/Mountain/3071550.png',\n",
       " '../data/raw/Mountain/3074400.png',\n",
       " '../data/raw/Mountain/3074825.png',\n",
       " '../data/raw/Mountain/3077451.png',\n",
       " '../data/raw/Mountain/3077323.png',\n",
       " '../data/raw/Mountain/3077479.png',\n",
       " '../data/raw/Mountain/3072677.png',\n",
       " '../data/raw/Mountain/3074006.png',\n",
       " '../data/raw/Mountain/3076177.png',\n",
       " '../data/raw/Mountain/3077241.png',\n",
       " '../data/raw/Mountain/3077335.png',\n",
       " '../data/raw/Mountain/3077447.png',\n",
       " '../data/raw/Mountain/3071547.png',\n",
       " '../data/raw/Mountain/3077320.png',\n",
       " '../data/raw/Mountain/3077334.png',\n",
       " '../data/raw/Mountain/3077452.png',\n",
       " '../data/raw/Mountain/3077283.png',\n",
       " '../data/raw/Mountain/3077240.png',\n",
       " '../data/raw/Mountain/3073026.png',\n",
       " '../data/raw/Mountain/3075651.png',\n",
       " '../data/raw/Mountain/3077456.png',\n",
       " '../data/raw/Mountain/3077330.png',\n",
       " '../data/raw/Mountain/3077324.png',\n",
       " '../data/raw/Mountain/3077318.png',\n",
       " '../data/raw/Mountain/3074822.png',\n",
       " '../data/raw/Mountain/3074836.png',\n",
       " '../data/raw/Mountain/3073816.png',\n",
       " '../data/raw/Mountain/3074837.png',\n",
       " '../data/raw/Mountain/3074823.png',\n",
       " '../data/raw/Mountain/3077319.png',\n",
       " '../data/raw/Mountain/3077457.png',\n",
       " '../data/raw/Mountain/3077331.png',\n",
       " '../data/raw/Mountain/3072856.png',\n",
       " '../data/raw/Mountain/3076373.png',\n",
       " '../data/raw/Mountain/3072868.png',\n",
       " '../data/raw/Mountain/3077509.png',\n",
       " '../data/raw/Mountain/3077284.png',\n",
       " '../data/raw/Mountain/3077333.png',\n",
       " '../data/raw/Mountain/3077455.png',\n",
       " '../data/raw/Mountain/3077469.png',\n",
       " '../data/raw/Mountain/3074835.png',\n",
       " '../data/raw/Mountain/3074821.png',\n",
       " '../data/raw/Mountain/3074809.png',\n",
       " '../data/raw/Mountain/3075097.png',\n",
       " '../data/raw/Mountain/3075096.png',\n",
       " '../data/raw/Mountain/3072921.png',\n",
       " '../data/raw/Mountain/3074834.png',\n",
       " '../data/raw/Mountain/3077468.png',\n",
       " '../data/raw/Mountain/3077332.png',\n",
       " '../data/raw/Mountain/3077285.png',\n",
       " '../data/raw/Mountain/3077508.png',\n",
       " '../data/raw/Mountain/3075608.png',\n",
       " '../data/raw/Mountain/3073251.png',\n",
       " '../data/raw/Mountain/3075634.png',\n",
       " '../data/raw/Mountain/3073709.png',\n",
       " '../data/raw/Mountain/3077369.png',\n",
       " '../data/raw/Mountain/3074890.png',\n",
       " '../data/raw/Mountain/3073682.png',\n",
       " '../data/raw/Mountain/3074853.png',\n",
       " '../data/raw/Mountain/3072588.png',\n",
       " '../data/raw/Mountain/3074476.png',\n",
       " '../data/raw/Mountain/3072774.png',\n",
       " '../data/raw/Mountain/3074477.png',\n",
       " '../data/raw/Mountain/3073683.png',\n",
       " '../data/raw/Mountain/3074852.png',\n",
       " '../data/raw/Mountain/3077432.png',\n",
       " '../data/raw/Mountain/3074891.png',\n",
       " '../data/raw/Mountain/3077368.png',\n",
       " '../data/raw/Mountain/3073734.png',\n",
       " '../data/raw/Mountain/3075635.png',\n",
       " '../data/raw/Mountain/3073252.png',\n",
       " '../data/raw/Mountain/3075810.png',\n",
       " '../data/raw/Mountain/3075804.png',\n",
       " '../data/raw/Mountain/3072548.png',\n",
       " '../data/raw/Mountain/3077430.png',\n",
       " '../data/raw/Mountain/3074887.png',\n",
       " '../data/raw/Mountain/3074878.png',\n",
       " '../data/raw/Mountain/3074844.png',\n",
       " '../data/raw/Mountain/3074850.png',\n",
       " '../data/raw/Mountain/3074475.png',\n",
       " '../data/raw/Mountain/3074851.png',\n",
       " '../data/raw/Mountain/3074845.png',\n",
       " '../data/raw/Mountain/3077431.png',\n",
       " '../data/raw/Mountain/3072549.png',\n",
       " '../data/raw/Mountain/3073253.png',\n",
       " '../data/raw/Mountain/3075636.png',\n",
       " '../data/raw/Mountain/3072808.png',\n",
       " '../data/raw/Mountain/3073733.png',\n",
       " '../data/raw/Mountain/3072559.png',\n",
       " '../data/raw/Mountain/3074841.png',\n",
       " '../data/raw/Mountain/3072773.png',\n",
       " '../data/raw/Mountain/3071535.png',\n",
       " '../data/raw/Mountain/3074854.png',\n",
       " '../data/raw/Mountain/3077391.png',\n",
       " '../data/raw/Mountain/3074840.png',\n",
       " '../data/raw/Mountain/3072558.png',\n",
       " '../data/raw/Mountain/3074897.png',\n",
       " '../data/raw/Mountain/3075814.png',\n",
       " '../data/raw/Mountain/3073256.png',\n",
       " '../data/raw/Mountain/3075633.png',\n",
       " '../data/raw/Mountain/3075625.png',\n",
       " '../data/raw/Mountain/3073254.png',\n",
       " '../data/raw/Mountain/3076853.png',\n",
       " '../data/raw/Mountain/3073687.png',\n",
       " '../data/raw/Mountain/3074842.png',\n",
       " '../data/raw/Mountain/3073877.png',\n",
       " '../data/raw/Mountain/3071537.png',\n",
       " '../data/raw/Mountain/3071536.png',\n",
       " '../data/raw/Mountain/3073876.png',\n",
       " '../data/raw/Mountain/3074843.png',\n",
       " '../data/raw/Mountain/3072639.png',\n",
       " '../data/raw/Mountain/3073255.png',\n",
       " '../data/raw/Mountain/3075624.png',\n",
       " '../data/raw/Mountain/3073714.png',\n",
       " '../data/raw/Mountain/3073700.png',\n",
       " '../data/raw/Mountain/3074906.png',\n",
       " '../data/raw/Mountain/3074912.png',\n",
       " '../data/raw/Mountain/3074899.png',\n",
       " '../data/raw/Mountain/3074898.png',\n",
       " '../data/raw/Mountain/3072557.png',\n",
       " '../data/raw/Mountain/3074913.png',\n",
       " '../data/raw/Mountain/3076876.png',\n",
       " '../data/raw/Mountain/3074907.png',\n",
       " '../data/raw/Mountain/3073715.png',\n",
       " '../data/raw/Mountain/3073717.png',\n",
       " '../data/raw/Mountain/3074911.png',\n",
       " '../data/raw/Mountain/3074905.png',\n",
       " '../data/raw/Mountain/3073688.png',\n",
       " '../data/raw/Mountain/3071538.png',\n",
       " '../data/raw/Mountain/3072794.png',\n",
       " '../data/raw/Mountain/3072780.png',\n",
       " '../data/raw/Mountain/3072540.png',\n",
       " '../data/raw/Mountain/3074910.png',\n",
       " '../data/raw/Mountain/3075607.png',\n",
       " '../data/raw/Mountain/3073712.png',\n",
       " '../data/raw/Mountain/3077212.png',\n",
       " '../data/raw/Mountain/3073699.png',\n",
       " '../data/raw/Mountain/3076939.png',\n",
       " '../data/raw/Mountain/3077171.png',\n",
       " '../data/raw/Mountain/3073698.png',\n",
       " '../data/raw/Mountain/3077429.png',\n",
       " '../data/raw/Mountain/3077367.png',\n",
       " '../data/raw/Mountain/3073713.png',\n",
       " '../data/raw/Mountain/3075362.png',\n",
       " '../data/raw/Mountain/3077213.png',\n",
       " '../data/raw/Mountain/3075809.png',\n",
       " '../data/raw/Mountain/3075606.png',\n",
       " '../data/raw/Mountain/3077007.png',\n",
       " '../data/raw/Mountain/3076319.png',\n",
       " '../data/raw/Mountain/3074042.png',\n",
       " '../data/raw/Mountain/3077239.png',\n",
       " '../data/raw/Mountain/3074888.png',\n",
       " '../data/raw/Mountain/3072547.png',\n",
       " '../data/raw/Mountain/3077167.png',\n",
       " '../data/raw/Mountain/3072793.png',\n",
       " '../data/raw/Mountain/3074889.png',\n",
       " '../data/raw/Mountain/3072546.png',\n",
       " '../data/raw/Mountain/3077238.png',\n",
       " '../data/raw/Mountain/3077210.png',\n",
       " '../data/raw/Mountain/3073710.png',\n",
       " '../data/raw/Mountain/3072694.png',\n",
       " '../data/raw/Mountain/3072680.png',\n",
       " '../data/raw/Mountain/3077511.png',\n",
       " '../data/raw/Mountain/3074018.png',\n",
       " '../data/raw/Mountain/3077459.png',\n",
       " '../data/raw/Mountain/3077465.png',\n",
       " '../data/raw/Mountain/3077471.png',\n",
       " '../data/raw/Mountain/3077317.png',\n",
       " '../data/raw/Mountain/3074839.png',\n",
       " '../data/raw/Mountain/3074811.png',\n",
       " '../data/raw/Mountain/3073818.png',\n",
       " '../data/raw/Mountain/3074805.png',\n",
       " '../data/raw/Mountain/3072737.png',\n",
       " '../data/raw/Mountain/3075702.png',\n",
       " '../data/raw/Mountain/3072736.png',\n",
       " '../data/raw/Mountain/3074804.png',\n",
       " '../data/raw/Mountain/3074838.png',\n",
       " '../data/raw/Mountain/3077470.png',\n",
       " '../data/raw/Mountain/3077316.png',\n",
       " '../data/raw/Mountain/3077464.png',\n",
       " '../data/raw/Mountain/3077458.png',\n",
       " '../data/raw/Mountain/3074019.png',\n",
       " '../data/raw/Mountain/3077510.png',\n",
       " '../data/raw/Mountain/3073038.png',\n",
       " '../data/raw/Mountain/3072865.png',\n",
       " '../data/raw/Mountain/3072681.png',\n",
       " '../data/raw/Mountain/3072695.png',\n",
       " '../data/raw/Mountain/3072640.png',\n",
       " '../data/raw/Mountain/3072867.png',\n",
       " '../data/raw/Mountain/3077512.png',\n",
       " '../data/raw/Mountain/3077328.png',\n",
       " '../data/raw/Mountain/3076988.png',\n",
       " '../data/raw/Mountain/3077472.png',\n",
       " '../data/raw/Mountain/3077466.png',\n",
       " '../data/raw/Mountain/3074806.png',\n",
       " '../data/raw/Mountain/3074812.png',\n",
       " '../data/raw/Mountain/3075701.png',\n",
       " '../data/raw/Mountain/3074813.png',\n",
       " '../data/raw/Mountain/3077467.png',\n",
       " '../data/raw/Mountain/3077315.png',\n",
       " '../data/raw/Mountain/3077473.png',\n",
       " '../data/raw/Mountain/3077329.png',\n",
       " '../data/raw/Mountain/3077513.png',\n",
       " '../data/raw/Mountain/3077507.png',\n",
       " '../data/raw/Mountain/3072866.png',\n",
       " '../data/raw/Mountain/3072641.png',\n",
       " '../data/raw/Mountain/3072679.png',\n",
       " '../data/raw/Mountain/3077517.png',\n",
       " '../data/raw/Mountain/3077477.png',\n",
       " '../data/raw/Mountain/3077463.png',\n",
       " '../data/raw/Mountain/3072731.png',\n",
       " '../data/raw/Mountain/3072725.png',\n",
       " '../data/raw/Mountain/3074397.png',\n",
       " '../data/raw/Mountain/3072730.png',\n",
       " '../data/raw/Mountain/3074816.png',\n",
       " '../data/raw/Mountain/3077462.png',\n",
       " '../data/raw/Mountain/3077476.png',\n",
       " '../data/raw/Mountain/3077516.png',\n",
       " '../data/raw/Mountain/3072678.png',\n",
       " '../data/raw/Mountain/3077514.png',\n",
       " '../data/raw/Mountain/3074021.png',\n",
       " '../data/raw/Mountain/3077299.png',\n",
       " '../data/raw/Mountain/3077460.png',\n",
       " '../data/raw/Mountain/3077474.png',\n",
       " '../data/raw/Mountain/3077448.png',\n",
       " '../data/raw/Mountain/3074814.png',\n",
       " '../data/raw/Mountain/3071549.png',\n",
       " '../data/raw/Mountain/3071548.png',\n",
       " '../data/raw/Mountain/3073820.png',\n",
       " '../data/raw/Mountain/3074815.png',\n",
       " '../data/raw/Mountain/3077449.png',\n",
       " '../data/raw/Mountain/3077475.png',\n",
       " '../data/raw/Mountain/3077461.png',\n",
       " '../data/raw/Mountain/3077298.png',\n",
       " '../data/raw/Mountain/3074020.png',\n",
       " '../data/raw/Mountain/3073029.png',\n",
       " '../data/raw/Mountain/3077515.png',\n",
       " '../data/raw/Mountain/3072690.png']"
      ]
     },
     "execution_count": 86,
     "metadata": {},
     "output_type": "execute_result"
    }
   ],
   "source": [
    "imagePaths"
   ]
  },
  {
   "cell_type": "code",
   "execution_count": 87,
   "metadata": {},
   "outputs": [
    {
     "name": "stderr",
     "output_type": "stream",
     "text": [
      "/Users/adambarnhard/dev/bike_image_classifier/venv/lib/python3.8/site-packages/PIL/Image.py:959: UserWarning: Palette images with Transparency expressed in bytes should be converted to RGBA images\n",
      "  warnings.warn(\n"
     ]
    }
   ],
   "source": [
    "# loop over the image paths\n",
    "for imagePath in imagePaths:\n",
    "    # extract the class label from the filename\n",
    "    label = imagePath.split(os.path.sep)[-2]\n",
    "\n",
    "    # load the input image (224x224) and preprocess it\n",
    "    image = load_img(imagePath, target_size=(224, 224))\n",
    "    image = img_to_array(image)\n",
    "    image = preprocess_input(image)\n",
    "\n",
    "    # update the data and labels lists, respectively\n",
    "    data.append(image)\n",
    "    labels.append(label)\n",
    "\n",
    "# convert the data and labels to NumPy arrays\n",
    "data = np.array(data, dtype=\"float32\")\n",
    "labels = np.array(labels)\n",
    "\n",
    "# perform one-hot encoding on the labels\n",
    "lb = LabelBinarizer()\n",
    "labels = lb.fit_transform(labels)\n",
    "labels = to_categorical(labels)"
   ]
  },
  {
   "cell_type": "code",
   "execution_count": 11,
   "metadata": {
    "collapsed": true
   },
   "outputs": [],
   "source": [
    "# partition the data into training and testing splits using 75% of\n",
    "# the data for training and the remaining 25% for testing\n",
    "(trainX, testX, trainY, testY) = train_test_split(data, labels,\n",
    "    test_size=0.20, stratify=labels, random_state=42)"
   ]
  },
  {
   "cell_type": "code",
   "execution_count": 12,
   "metadata": {
    "collapsed": true
   },
   "outputs": [],
   "source": [
    "# construct the training image generator for data augmentation\n",
    "aug = ImageDataGenerator(\n",
    "    rotation_range=20,\n",
    "    zoom_range=0.15,\n",
    "    width_shift_range=0.2,\n",
    "    height_shift_range=0.2,\n",
    "    shear_range=0.15,\n",
    "    horizontal_flip=True,\n",
    "    fill_mode=\"nearest\")"
   ]
  },
  {
   "cell_type": "code",
   "execution_count": 13,
   "metadata": {},
   "outputs": [
    {
     "name": "stdout",
     "output_type": "stream",
     "text": [
      "WARNING:tensorflow:`input_shape` is undefined or non-square, or `rows` is not in [96, 128, 160, 192, 224]. Weights for input shape (224, 224) will be loaded as the default.\n"
     ]
    }
   ],
   "source": [
    "# load the MobileNetV2 network, ensuring the head FC layer sets are\n",
    "# left off\n",
    "baseModel = MobileNetV2(weights=\"imagenet\", include_top=False,\n",
    "    input_tensor=Input(shape=(224, 224, 3)))"
   ]
  },
  {
   "cell_type": "code",
   "execution_count": 14,
   "metadata": {
    "collapsed": true
   },
   "outputs": [],
   "source": [
    "# construct the head of the model that will be placed on top of the\n",
    "# the base model\n",
    "headModel = baseModel.output\n",
    "headModel = AveragePooling2D(pool_size=(7, 7))(headModel)\n",
    "headModel = Flatten(name=\"flatten\")(headModel)\n",
    "headModel = Dense(128, activation=\"relu\")(headModel)\n",
    "headModel = Dropout(0.5)(headModel)\n",
    "headModel = Dense(2, activation=\"softmax\")(headModel)"
   ]
  },
  {
   "cell_type": "code",
   "execution_count": 15,
   "metadata": {
    "collapsed": true
   },
   "outputs": [],
   "source": [
    "# place the head FC model on top of the base model (this will become\n",
    "# the actual model we will train)\n",
    "model = Model(inputs=baseModel.input, outputs=headModel)"
   ]
  },
  {
   "cell_type": "code",
   "execution_count": 16,
   "metadata": {
    "collapsed": true
   },
   "outputs": [],
   "source": [
    "# loop over all layers in the base model and freeze them so they will\n",
    "# *not* be updated during the first training process\n",
    "for layer in baseModel.layers:\n",
    "\tlayer.trainable = False"
   ]
  },
  {
   "cell_type": "code",
   "execution_count": 23,
   "metadata": {},
   "outputs": [
    {
     "name": "stdout",
     "output_type": "stream",
     "text": [
      "[INFO] compiling model...\n"
     ]
    }
   ],
   "source": [
    "# initialize the initial learning rate, number of epochs to train for,\n",
    "# and batch size\n",
    "INIT_LR = 1e-4\n",
    "EPOCHS = 20\n",
    "BS = 32\n",
    "\n",
    "# compile our model\n",
    "print(\"[INFO] compiling model...\")\n",
    "opt = Adam(lr=INIT_LR, decay=INIT_LR / EPOCHS)\n",
    "model.compile(loss=\"binary_crossentropy\", optimizer=opt,\n",
    "\tmetrics=[\"accuracy\"])"
   ]
  },
  {
   "cell_type": "code",
   "execution_count": 24,
   "metadata": {},
   "outputs": [
    {
     "name": "stdout",
     "output_type": "stream",
     "text": [
      "[INFO] training head...\n",
      "Epoch 1/20\n",
      "11/11 [==============================] - 10s 911ms/step - loss: 0.4591 - accuracy: 0.7983 - val_loss: 0.3572 - val_accuracy: 0.9121\n",
      "Epoch 2/20\n",
      "11/11 [==============================] - 10s 910ms/step - loss: 0.4235 - accuracy: 0.7831 - val_loss: 0.3245 - val_accuracy: 0.9231\n",
      "Epoch 3/20\n",
      "11/11 [==============================] - 9s 859ms/step - loss: 0.3897 - accuracy: 0.8253 - val_loss: 0.3169 - val_accuracy: 0.8791\n",
      "Epoch 4/20\n",
      "11/11 [==============================] - 9s 855ms/step - loss: 0.3392 - accuracy: 0.8735 - val_loss: 0.2810 - val_accuracy: 0.9341\n",
      "Epoch 5/20\n",
      "11/11 [==============================] - 9s 824ms/step - loss: 0.3118 - accuracy: 0.8795 - val_loss: 0.2662 - val_accuracy: 0.9011\n",
      "Epoch 6/20\n",
      "11/11 [==============================] - 9s 830ms/step - loss: 0.2892 - accuracy: 0.9006 - val_loss: 0.2473 - val_accuracy: 0.9121\n",
      "Epoch 7/20\n",
      "11/11 [==============================] - 9s 825ms/step - loss: 0.2840 - accuracy: 0.8976 - val_loss: 0.2352 - val_accuracy: 0.9011\n",
      "Epoch 8/20\n",
      "11/11 [==============================] - 9s 856ms/step - loss: 0.2639 - accuracy: 0.9127 - val_loss: 0.2231 - val_accuracy: 0.9011\n",
      "Epoch 9/20\n",
      "11/11 [==============================] - 9s 808ms/step - loss: 0.2444 - accuracy: 0.9127 - val_loss: 0.2097 - val_accuracy: 0.9451\n",
      "Epoch 10/20\n",
      "11/11 [==============================] - 9s 810ms/step - loss: 0.2496 - accuracy: 0.9157 - val_loss: 0.1998 - val_accuracy: 0.9451\n",
      "Epoch 11/20\n",
      "11/11 [==============================] - 9s 814ms/step - loss: 0.2274 - accuracy: 0.9096 - val_loss: 0.1894 - val_accuracy: 0.9341\n",
      "Epoch 12/20\n",
      "11/11 [==============================] - 9s 808ms/step - loss: 0.2092 - accuracy: 0.9337 - val_loss: 0.1835 - val_accuracy: 0.9341\n",
      "Epoch 13/20\n",
      "11/11 [==============================] - 9s 839ms/step - loss: 0.2011 - accuracy: 0.9375 - val_loss: 0.1729 - val_accuracy: 0.9451\n",
      "Epoch 14/20\n",
      "11/11 [==============================] - 10s 873ms/step - loss: 0.1851 - accuracy: 0.9458 - val_loss: 0.1674 - val_accuracy: 0.9341\n",
      "Epoch 15/20\n",
      "11/11 [==============================] - 9s 819ms/step - loss: 0.1831 - accuracy: 0.9608 - val_loss: 0.1615 - val_accuracy: 0.9341\n",
      "Epoch 16/20\n",
      "11/11 [==============================] - 10s 864ms/step - loss: 0.1461 - accuracy: 0.9699 - val_loss: 0.1572 - val_accuracy: 0.9341\n",
      "Epoch 17/20\n",
      "11/11 [==============================] - 11s 1s/step - loss: 0.1635 - accuracy: 0.9578 - val_loss: 0.1527 - val_accuracy: 0.9451\n",
      "Epoch 18/20\n",
      "11/11 [==============================] - 11s 975ms/step - loss: 0.1650 - accuracy: 0.9398 - val_loss: 0.1467 - val_accuracy: 0.9451\n",
      "Epoch 19/20\n",
      "11/11 [==============================] - 11s 1s/step - loss: 0.1624 - accuracy: 0.9458 - val_loss: 0.1423 - val_accuracy: 0.9451\n",
      "Epoch 20/20\n",
      "11/11 [==============================] - 11s 976ms/step - loss: 0.1677 - accuracy: 0.9398 - val_loss: 0.1463 - val_accuracy: 0.9560\n"
     ]
    }
   ],
   "source": [
    "# train the head of the network\n",
    "print(\"[INFO] training head...\")\n",
    "H = model.fit(\n",
    "\taug.flow(trainX, trainY, batch_size=BS),\n",
    "\tsteps_per_epoch=len(trainX) // BS,\n",
    "\tvalidation_data=(testX, testY),\n",
    "\tvalidation_steps=len(testX) // BS,\n",
    "\tepochs=EPOCHS)"
   ]
  },
  {
   "cell_type": "code",
   "execution_count": 66,
   "metadata": {},
   "outputs": [],
   "source": [
    "model = load_model('../models/bike_classification_model.model')"
   ]
  },
  {
   "cell_type": "code",
   "execution_count": 67,
   "metadata": {},
   "outputs": [
    {
     "name": "stdout",
     "output_type": "stream",
     "text": [
      "[INFO] evaluating network...\n"
     ]
    }
   ],
   "source": [
    "# make predictions on the testing set\n",
    "print(\"[INFO] evaluating network...\")\n",
    "predIdxs = model.predict(testX, batch_size=BS)"
   ]
  },
  {
   "cell_type": "code",
   "execution_count": 69,
   "metadata": {
    "collapsed": true
   },
   "outputs": [],
   "source": [
    "# for each image in the testing set we need to find the index of the\n",
    "# label with corresponding largest predicted probability\n",
    "predIdxs = np.argmax(predIdxs, axis=1)"
   ]
  },
  {
   "cell_type": "code",
   "execution_count": 70,
   "metadata": {},
   "outputs": [
    {
     "name": "stdout",
     "output_type": "stream",
     "text": [
      "              precision    recall  f1-score   support\n",
      "\n",
      "    Mountain       0.98      0.94      0.96        50\n",
      "        Road       0.93      0.98      0.95        41\n",
      "\n",
      "    accuracy                           0.96        91\n",
      "   macro avg       0.95      0.96      0.96        91\n",
      "weighted avg       0.96      0.96      0.96        91\n",
      "\n"
     ]
    }
   ],
   "source": [
    "# show a nicely formatted classification report\n",
    "print(classification_report(testY.argmax(axis=1), predIdxs,\n",
    "\ttarget_names=lb.classes_))"
   ]
  },
  {
   "cell_type": "code",
   "execution_count": 28,
   "metadata": {},
   "outputs": [
    {
     "name": "stdout",
     "output_type": "stream",
     "text": [
      "[INFO] saving mask detector model...\n"
     ]
    }
   ],
   "source": [
    "# serialize the model to disk\n",
    "print(\"[INFO] saving mask detector model...\")\n",
    "model.save('../models/bike_classification_model.model', save_format=\"h5\")"
   ]
  },
  {
   "cell_type": "code",
   "execution_count": 29,
   "metadata": {},
   "outputs": [
    {
     "data": {
      "image/png": "[encoded data removed]",
      "text/plain": [
       "<Figure size 432x288 with 1 Axes>"
      ]
     },
     "metadata": {},
     "output_type": "display_data"
    }
   ],
   "source": [
    "N = EPOCHS\n",
    "plt.style.use(\"ggplot\")\n",
    "plt.figure()\n",
    "plt.plot(np.arange(0, N), H.history[\"loss\"], label=\"train_loss\")\n",
    "plt.plot(np.arange(0, N), H.history[\"val_loss\"], label=\"val_loss\")\n",
    "plt.plot(np.arange(0, N), H.history[\"accuracy\"], label=\"train_acc\")\n",
    "plt.plot(np.arange(0, N), H.history[\"val_accuracy\"], label=\"val_acc\")\n",
    "plt.title(\"Training Loss and Accuracy\")\n",
    "plt.xlabel(\"Epoch #\")\n",
    "plt.ylabel(\"Loss/Accuracy\")\n",
    "plt.legend(loc=\"lower left\")\n",
    "plt.show()"
   ]
  },
  {
   "cell_type": "code",
   "execution_count": 79,
   "metadata": {
    "collapsed": true
   },
   "outputs": [],
   "source": [
    "from src.models.model_wrapper import ModelWrapper"
   ]
  },
  {
   "cell_type": "code",
   "execution_count": 81,
   "metadata": {},
   "outputs": [],
   "source": [
    "model_wrapped = ModelWrapper()"
   ]
  },
  {
   "cell_type": "code",
   "execution_count": 94,
   "metadata": {},
   "outputs": [
    {
     "data": {
      "text/plain": [
       "'Mountain: 0.22217256, Road: 0.7778274'"
      ]
     },
     "execution_count": 94,
     "metadata": {},
     "output_type": "execute_result"
    }
   ],
   "source": [
    "model_wrapped.predict('../data/raw/Examples/full_2020_grail-al-7-0_2370_sr-bk_P5.png')"
   ]
  },
  {
   "cell_type": "code",
   "execution_count": 95,
   "metadata": {},
   "outputs": [
    {
     "data": {
      "text/plain": [
       "'Mountain: 0.9797233, Road: 0.020276703'"
      ]
     },
     "execution_count": 95,
     "metadata": {},
     "output_type": "execute_result"
    }
   ],
   "source": [
    "model_wrapped.predict('../data/raw/Examples/full_2020_strive-cf-7-0_2239_tm_P5.png')"
   ]
  },
  {
   "cell_type": "code",
   "execution_count": 96,
   "metadata": {},
   "outputs": [
    {
     "data": {
      "text/plain": [
       "'Mountain: 0.20534436, Road: 0.7946556'"
      ]
     },
     "execution_count": 96,
     "metadata": {},
     "output_type": "execute_result"
    }
   ],
   "source": [
    "model_wrapped.predict('../data/raw/Examples/Marin-Nicasio-plus-outside.jpg')"
   ]
  },
  {
   "cell_type": "code",
   "execution_count": null,
   "metadata": {
    "collapsed": true
   },
   "outputs": [],
   "source": []
  }
 ],
 "metadata": {
  "kernelspec": {
   "display_name": "bike_image_classifier",
   "language": "python",
   "name": "bike_image_classifier"
  },
  "language_info": {
   "codemirror_mode": {
    "name": "ipython",
    "version": 3
   },
   "file_extension": ".py",
   "mimetype": "text/x-python",
   "name": "python",
   "nbconvert_exporter": "python",
   "pygments_lexer": "ipython3",
   "version": "3.8.2"
  }
 },
 "nbformat": 4,
 "nbformat_minor": 4
}
